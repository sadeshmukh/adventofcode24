{
  "nbformat": 4,
  "nbformat_minor": 0,
  "metadata": {
    "colab": {
      "provenance": [],
      "collapsed_sections": [
        "4Hl_gaaY_DH4",
        "T4roIyu8X2q2",
        "rEYhnn8u2bgz"
      ],
      "authorship_tag": "ABX9TyODvPQKa0QjFG4/jKiv+oVE",
      "include_colab_link": true
    },
    "kernelspec": {
      "name": "python3",
      "display_name": "Python 3"
    },
    "language_info": {
      "name": "python"
    }
  },
  "cells": [
    {
      "cell_type": "markdown",
      "metadata": {
        "id": "view-in-github",
        "colab_type": "text"
      },
      "source": [
        "<a href=\"https://colab.research.google.com/github/sadeshmukh/adventofcode24/blob/main/AdventOfCode24.ipynb\" target=\"_parent\"><img src=\"https://colab.research.google.com/assets/colab-badge.svg\" alt=\"Open In Colab\"/></a>"
      ]
    },
    {
      "cell_type": "markdown",
      "source": [
        "# Advent of Code 2024 - my solutions\n",
        "I placed my files in `/content/adventn.24.txt`.\n",
        "\n",
        "I only `%%timeit` to see relative speeds of different days - this isn't expected to be fast at all\n"
      ],
      "metadata": {
        "id": "eGYFCphKYmbt"
      }
    },
    {
      "cell_type": "markdown",
      "source": [
        "# Day 1"
      ],
      "metadata": {
        "id": "4Hl_gaaY_DH4"
      }
    },
    {
      "cell_type": "code",
      "source": [
        "%%timeit\n",
        "textlines = open(\"/content/advent1.24.txt\", \"r\").readlines()\n",
        "a, b = zip(*(line.split(\"   \") for line in textlines))\n",
        "sum(abs(int(pair[0]) - int(pair[1])) for pair in zip(*(sorted(part) for part in zip(*(line.split(\"   \") for line in textlines)))))"
      ],
      "metadata": {
        "id": "MAbVNMW2_CrJ",
        "colab": {
          "base_uri": "https://localhost:8080/"
        },
        "outputId": "15785b4b-231b-4767-bb21-013ba9d3c285"
      },
      "execution_count": null,
      "outputs": [
        {
          "output_type": "stream",
          "name": "stdout",
          "text": [
            "1.67 ms ± 381 µs per loop (mean ± std. dev. of 7 runs, 1000 loops each)\n"
          ]
        }
      ]
    },
    {
      "cell_type": "code",
      "source": [
        "# part 2\n",
        "%%timeit\n",
        "textlines = open(\"/content/advent1.24.txt\", \"r\").readlines()\n",
        "a, b = zip(*(line.strip().split(\"   \") for line in textlines))\n",
        "sum((int(i) * b.count(i) for i in a))"
      ],
      "metadata": {
        "colab": {
          "base_uri": "https://localhost:8080/"
        },
        "id": "kDGrIMU3A-qp",
        "outputId": "34f6753e-092e-4035-b01f-ac60fc5f6469"
      },
      "execution_count": null,
      "outputs": [
        {
          "output_type": "stream",
          "name": "stdout",
          "text": [
            "24.7 ms ± 5.75 ms per loop (mean ± std. dev. of 7 runs, 10 loops each)\n"
          ]
        }
      ]
    },
    {
      "cell_type": "markdown",
      "source": [
        "# Day 2"
      ],
      "metadata": {
        "id": "T4roIyu8X2q2"
      }
    },
    {
      "cell_type": "code",
      "source": [
        "%%timeit\n",
        "textlines = open(\"/content/advent2.24.txt\", \"r\").readlines()\n",
        "numlines = [[int(num) for num in line.split(\" \")] for line in textlines]\n",
        "is_valid = lambda items: all(a < (b := items[i + 1]) and abs(a - b) <= 3 for i, a in enumerate(items[:-1]))\n",
        "is_actually_valid = lambda some_list: is_valid(some_list) or is_valid(list(reversed(some_list)))\n",
        "sum(is_actually_valid(numlist) for numlist in numlines)"
      ],
      "metadata": {
        "colab": {
          "base_uri": "https://localhost:8080/"
        },
        "id": "jqk3CngeX5Gs",
        "outputId": "6cf92a16-e2bd-408b-a2c9-b7a4c31d65ee"
      },
      "execution_count": null,
      "outputs": [
        {
          "output_type": "stream",
          "name": "stdout",
          "text": [
            "5.62 ms ± 1.74 ms per loop (mean ± std. dev. of 7 runs, 100 loops each)\n"
          ]
        }
      ]
    },
    {
      "cell_type": "code",
      "source": [
        "# part 2\n",
        "\n",
        "%%timeit\n",
        "textlines = open(\"/content/advent2.24.txt\", \"r\").readlines()\n",
        "numlines = [[int(num) for num in line.split(\" \")] for line in textlines]\n",
        "is_valid = lambda items: all(a < (b := items[i + 1]) and abs(a - b) <= 3 for i, a in enumerate(items[:-1]))\n",
        "is_truly_valid = lambda items: True in [is_valid(items[:i] + items[i + 1:]) for i, item in enumerate(items)]\n",
        "is_actually_valid = lambda some_list: is_truly_valid(some_list) or is_truly_valid(list(reversed(some_list)))\n",
        "sum(is_actually_valid(numlist) for numlist in numlines)"
      ],
      "metadata": {
        "id": "nUFjZzMZozoA"
      },
      "execution_count": null,
      "outputs": []
    },
    {
      "cell_type": "markdown",
      "source": [
        "# Day 3"
      ],
      "metadata": {
        "id": "rEYhnn8u2bgz"
      }
    },
    {
      "cell_type": "code",
      "source": [
        "text = open(\"/content/advent3.24.txt\", \"r\").read()"
      ],
      "metadata": {
        "id": "0lsYInT8yD-S"
      },
      "execution_count": null,
      "outputs": []
    },
    {
      "cell_type": "code",
      "source": [
        "total = 0\n",
        "dostate = True\n",
        "is_part_2 = True # toggle for part 2 sol or not\n",
        "for i, char in enumerate(text):\n",
        "  if text[i:i+4] == \"do()\":\n",
        "    dostate = True\n",
        "  if text[i:i+7] == \"don't()\":\n",
        "    dostate = False\n",
        "  if char != \"m\":\n",
        "    continue\n",
        "  if text[i:i+4] != \"mul(\":\n",
        "    continue\n",
        "  num1 = \"\"\n",
        "  current_index = i+4\n",
        "  while True:\n",
        "    if not text[current_index].isnumeric():\n",
        "      break\n",
        "    num1 += text[current_index]\n",
        "    current_index += 1\n",
        "  if text[current_index] != \",\":\n",
        "    continue\n",
        "  current_index += 1\n",
        "  num2 = \"\"\n",
        "  while True:\n",
        "    if not text[current_index].isnumeric():\n",
        "      break\n",
        "    num2 += text[current_index]\n",
        "    current_index += 1\n",
        "\n",
        "  if not text[current_index] == \")\":\n",
        "    continue\n",
        "\n",
        "  if is_part_2 and not dostate:\n",
        "      continue\n",
        "\n",
        "  try:\n",
        "\n",
        "    total += int(num1) * int(num2)\n",
        "  except Exception:\n",
        "    pass\n",
        "total"
      ],
      "metadata": {
        "colab": {
          "base_uri": "https://localhost:8080/"
        },
        "id": "51JpAOkyyL_v",
        "outputId": "d5f65ea3-2f45-44b2-a256-954487fd4b39"
      },
      "execution_count": null,
      "outputs": [
        {
          "output_type": "execute_result",
          "data": {
            "text/plain": [
              "94455185"
            ]
          },
          "metadata": {},
          "execution_count": 29
        }
      ]
    },
    {
      "cell_type": "markdown",
      "source": [
        "# Day 4"
      ],
      "metadata": {
        "id": "0v3O0UefByFg"
      }
    },
    {
      "cell_type": "markdown",
      "source": [
        "## Part 1"
      ],
      "metadata": {
        "id": "usjDOBXnPtRt"
      }
    },
    {
      "cell_type": "code",
      "source": [
        "# horizontal\n",
        "%%timeit\n",
        "textlines = open(\"/content/advent4.24.txt\", \"r\").readlines()\n",
        "textlines = [line.strip() for line in textlines]\n",
        "count = 0\n",
        "for line in textlines:\n",
        "  count += line.count(\"XMAS\") + line.count(\"SAMX\")\n",
        "for vertical in zip(*textlines):\n",
        "  vertical = \"\".join(vertical)\n",
        "  count += str(vertical).count(\"XMAS\") + str(vertical).count(\"SAMX\")\n",
        "\n",
        "# counting from top row right down\n",
        "for j, char in enumerate(textlines[0]):\n",
        "  # generate each diagonal\n",
        "  diagonal = \"\"\n",
        "  current_i, current_j = 0, j\n",
        "  while True:\n",
        "    if current_i >= len(textlines) or current_j >= len(textlines[0]):\n",
        "      break\n",
        "    diagonal += textlines[current_i][current_j]\n",
        "    current_i += 1\n",
        "    current_j += 1\n",
        "  count += diagonal.count(\"XMAS\") + diagonal.count(\"SAMX\")\n",
        "\n",
        "\n",
        "#counting from left column right down\n",
        "for i, char in enumerate(\"\".join(list(zip(*textlines))[0])):\n",
        "  if i == 0:\n",
        "    continue\n",
        "  diagonal = \"\"\n",
        "  current_i, current_j = i, 0\n",
        "  while True:\n",
        "    if current_i >= len(textlines) or current_j >= len(textlines[0]):\n",
        "      break\n",
        "    diagonal += textlines[current_i][current_j]\n",
        "    current_i += 1\n",
        "    current_j += 1\n",
        "  count += diagonal.count(\"XMAS\") + diagonal.count(\"SAMX\")\n",
        "\n",
        "\n",
        "# counting from top row left down\n",
        "for j, char in enumerate(textlines[0]):\n",
        "  # generate each diagonal\n",
        "  diagonal = \"\"\n",
        "  current_i, current_j = 0, j\n",
        "  while True:\n",
        "    if current_i >= len(textlines) or current_j >= len(textlines[0])  or current_i < 0 or current_j < 0:\n",
        "      break\n",
        "    diagonal += textlines[current_i][current_j]\n",
        "    current_i += 1\n",
        "    current_j -= 1\n",
        "  count += diagonal.count(\"XMAS\") + diagonal.count(\"SAMX\")\n",
        "  # print(diagonal)\n",
        "\n",
        "# counting from right column left down\n",
        "for i, char in enumerate(\"\".join(list(zip(*textlines))[0])):\n",
        "  if i == 0:\n",
        "    continue\n",
        "  # generate each diagonal\n",
        "  diagonal = \"\"\n",
        "  current_i, current_j = i, len(textlines[0]) - 1\n",
        "  while True:\n",
        "    if current_i >= len(textlines) or current_j >= len(textlines[0])  or current_i < 0 or current_j < 0:\n",
        "      break\n",
        "    diagonal += textlines[current_i][current_j]\n",
        "    current_i += 1\n",
        "    current_j -= 1\n",
        "  count += diagonal.count(\"XMAS\") + diagonal.count(\"SAMX\")\n",
        "  # print(diagonal)\n",
        "\n",
        "\n",
        "count"
      ],
      "metadata": {
        "colab": {
          "base_uri": "https://localhost:8080/"
        },
        "id": "XjdAwk5TC9pA",
        "outputId": "ae6a7cb2-ba07-4ad4-b3f8-ed5fc06cf266"
      },
      "execution_count": 52,
      "outputs": [
        {
          "output_type": "stream",
          "name": "stdout",
          "text": [
            "17.5 ms ± 3.16 ms per loop (mean ± std. dev. of 7 runs, 100 loops each)\n"
          ]
        }
      ]
    },
    {
      "cell_type": "markdown",
      "source": [
        "## Part 2"
      ],
      "metadata": {
        "id": "1ObzkDDSP46I"
      }
    },
    {
      "cell_type": "code",
      "source": [
        "%%timeit\n",
        "textlines = open(\"/content/advent4.24.txt\", \"r\").readlines()\n",
        "textlines = [line.strip() for line in textlines]\n",
        "\n",
        "mas_s = [\n",
        "    [\"M M\", \" A \", \"S S\"],\n",
        "    [\"M S\", \" A \", \"M S\"],\n",
        "    [\"S M\", \" A \", \"S M\"],\n",
        "    [\"S S\", \" A \", \"M M\"]\n",
        "]\n",
        "\n",
        "count = 0\n",
        "# centers range from 1 -> len - 2\n",
        "for i in range(1, len(textlines) - 1):\n",
        "  for j in range(1, len(textlines[0]) - 1):\n",
        "    box_start, box_end = (i - 1, j - 1), (i + 1, j + 1)\n",
        "    for mas in mas_s:\n",
        "      bad = False\n",
        "      for level_i, level in enumerate(mas):\n",
        "        for char_j, char in enumerate(level):\n",
        "          if char != textlines[box_start[0] + level_i][box_start[1] + char_j] and char != \" \":\n",
        "            bad = True\n",
        "            break\n",
        "        if bad:\n",
        "          break\n",
        "      if not bad:\n",
        "        count += 1\n",
        "count"
      ],
      "metadata": {
        "id": "pVson6PhLd6P",
        "colab": {
          "base_uri": "https://localhost:8080/"
        },
        "outputId": "425b04a4-fd1a-46d6-e443-82bb63d10285"
      },
      "execution_count": 53,
      "outputs": [
        {
          "output_type": "stream",
          "name": "stdout",
          "text": [
            "86.4 ms ± 23.4 ms per loop (mean ± std. dev. of 7 runs, 10 loops each)\n"
          ]
        }
      ]
    },
    {
      "cell_type": "code",
      "source": [
        "%%timeit\n",
        "textlines = open(\"/content/advent4.24.txt\", \"r\").readlines()\n",
        "textlines = [line.strip() for line in textlines]\n",
        "\n",
        "# this is my second attempt for part 2 after forgetting range is inclusive-exclusive\n",
        "# it's a lot better though!\n",
        "\n",
        "count = 0\n",
        "for i in range(1, len(textlines) - 1):\n",
        "  for j in range(1, len(textlines[0]) - 1):\n",
        "    char = textlines[i][j]\n",
        "    if char != \"A\":\n",
        "      continue\n",
        "    if {textlines[i - 1][j - 1], textlines[i + 1][j + 1]} != {\"M\", \"S\"}:\n",
        "      continue\n",
        "    if {textlines[i + 1][j - 1], textlines[i - 1][j + 1]} != {\"M\", \"S\"}:\n",
        "      continue\n",
        "    count += 1\n",
        "count"
      ],
      "metadata": {
        "colab": {
          "base_uri": "https://localhost:8080/"
        },
        "id": "RyeEL7ZOOUvw",
        "outputId": "bccb4180-9e21-4992-aaf4-ef26e3d17371"
      },
      "execution_count": 54,
      "outputs": [
        {
          "output_type": "stream",
          "name": "stdout",
          "text": [
            "6.67 ms ± 1.73 ms per loop (mean ± std. dev. of 7 runs, 100 loops each)\n"
          ]
        }
      ]
    },
    {
      "cell_type": "markdown",
      "source": [
        "# Day 5"
      ],
      "metadata": {
        "id": "OehMG_KqMiMd"
      }
    },
    {
      "cell_type": "code",
      "source": [
        "rules, updates = (i.strip() for i in open(\"/content/advent5.24.txt\", \"r\").read().split(\"\\n\\n\"))\n",
        "rules = rules.split(\"\\n\")\n",
        "updates = updates.split(\"\\n\")"
      ],
      "metadata": {
        "id": "WPW1gJ6xMj5V"
      },
      "execution_count": 15,
      "outputs": []
    },
    {
      "cell_type": "code",
      "source": [
        "rule_dict = {}\n",
        "for rule in rules:\n",
        "  parts = rule.split(\"|\")\n",
        "  rule_dict[parts[1]] = rule_dict.get(parts[1], []) + [parts[0]]\n",
        "\n",
        "secondary_rule_dict = {}\n",
        "for rule in rules:\n",
        "  parts = rule.split(\"|\")\n",
        "  secondary_rule_dict[parts[0]] = secondary_rule_dict.get(parts[0], []) + [parts[1]]\n",
        "\n",
        "count = 0\n",
        "count_p2 = 0\n",
        "for update in updates:\n",
        "  bad = False\n",
        "  upd_nums = update.split(\",\")\n",
        "  for i, num in enumerate(upd_nums):\n",
        "    for rule in rule_dict.get(num, []):\n",
        "      if not (rule in upd_nums and num in upd_nums):\n",
        "        continue\n",
        "      is_contained_prior = False\n",
        "      for j in range(0, i):\n",
        "        if upd_nums[j] == rule:\n",
        "          is_contained_prior = True\n",
        "      if not is_contained_prior:\n",
        "        bad = True\n",
        "  if not bad:\n",
        "    middle = upd_nums[int((len(upd_nums) - 1) / 2)]\n",
        "    count += int(middle)\n",
        "  else:\n",
        "    good = True\n",
        "    new_upd_nums = upd_nums.copy()\n",
        "    while True:\n",
        "      good = True\n",
        "      for i, nun in enumerate(new_upd_nums): # it's NUN (new_upd_num) not NUM\n",
        "        for rule in secondary_rule_dict.get(nun, []):\n",
        "          if not rule in new_upd_nums:\n",
        "            continue\n",
        "          for j in range(0, i):\n",
        "            if new_upd_nums[j] == rule:\n",
        "              # swap them - really slow, but fast enough for this\n",
        "              good = False\n",
        "              new_upd_nums[i], new_upd_nums[j] = new_upd_nums[j], new_upd_nums[i]\n",
        "              break\n",
        "          if not good:\n",
        "            break\n",
        "        if not good:\n",
        "          break\n",
        "      if good:\n",
        "        break\n",
        "    middle = new_upd_nums[int((len(new_upd_nums) - 1) / 2)]\n",
        "    count_p2 += int(middle)\n",
        "\n",
        "\n",
        "\n",
        "print(count, count_p2)"
      ],
      "metadata": {
        "colab": {
          "base_uri": "https://localhost:8080/"
        },
        "collapsed": true,
        "id": "TsnxKTfvMy-7",
        "outputId": "3b7e0067-9df0-4ff0-fd23-30476ed3a41f"
      },
      "execution_count": 50,
      "outputs": [
        {
          "output_type": "stream",
          "name": "stdout",
          "text": [
            "5955 4030\n"
          ]
        }
      ]
    }
  ]
}