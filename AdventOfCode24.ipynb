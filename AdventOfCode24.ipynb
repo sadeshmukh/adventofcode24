{
  "nbformat": 4,
  "nbformat_minor": 0,
  "metadata": {
    "colab": {
      "provenance": [],
      "authorship_tag": "ABX9TyPX+49tCr1qMc5iCzjQNAva",
      "include_colab_link": true
    },
    "kernelspec": {
      "name": "python3",
      "display_name": "Python 3"
    },
    "language_info": {
      "name": "python"
    }
  },
  "cells": [
    {
      "cell_type": "markdown",
      "metadata": {
        "id": "view-in-github",
        "colab_type": "text"
      },
      "source": [
        "<a href=\"https://colab.research.google.com/github/sadeshmukh/adventofcode24/blob/main/AdventOfCode24.ipynb\" target=\"_parent\"><img src=\"https://colab.research.google.com/assets/colab-badge.svg\" alt=\"Open In Colab\"/></a>"
      ]
    },
    {
      "cell_type": "markdown",
      "source": [
        "## Day 1"
      ],
      "metadata": {
        "id": "4Hl_gaaY_DH4"
      }
    },
    {
      "cell_type": "code",
      "source": [
        "%%timeit\n",
        "textlines = open(\"/content/advent1.24.txt\", \"r\").readlines()\n",
        "a, b = zip(*(line.split(\"   \") for line in textlines))\n",
        "sum(abs(int(pair[0]) - int(pair[1])) for pair in zip(*(sorted(part) for part in zip(*(line.split(\"   \") for line in textlines)))))"
      ],
      "metadata": {
        "id": "MAbVNMW2_CrJ",
        "colab": {
          "base_uri": "https://localhost:8080/"
        },
        "outputId": "15785b4b-231b-4767-bb21-013ba9d3c285"
      },
      "execution_count": 30,
      "outputs": [
        {
          "output_type": "stream",
          "name": "stdout",
          "text": [
            "1.67 ms ± 381 µs per loop (mean ± std. dev. of 7 runs, 1000 loops each)\n"
          ]
        }
      ]
    },
    {
      "cell_type": "code",
      "source": [
        "# part 2\n",
        "%%timeit\n",
        "textlines = open(\"/content/advent1.24.txt\", \"r\").readlines()\n",
        "a, b = zip(*(line.strip().split(\"   \") for line in textlines))\n",
        "sum((int(i) * b.count(i) for i in a))"
      ],
      "metadata": {
        "colab": {
          "base_uri": "https://localhost:8080/"
        },
        "id": "kDGrIMU3A-qp",
        "outputId": "34f6753e-092e-4035-b01f-ac60fc5f6469"
      },
      "execution_count": null,
      "outputs": [
        {
          "output_type": "stream",
          "name": "stdout",
          "text": [
            "24.7 ms ± 5.75 ms per loop (mean ± std. dev. of 7 runs, 10 loops each)\n"
          ]
        }
      ]
    },
    {
      "cell_type": "markdown",
      "source": [
        "## Day 2"
      ],
      "metadata": {
        "id": "T4roIyu8X2q2"
      }
    },
    {
      "cell_type": "code",
      "source": [
        "%%timeit\n",
        "textlines = open(\"/content/advent2.24.txt\", \"r\").readlines()\n",
        "numlines = [[int(num) for num in line.split(\" \")] for line in textlines]\n",
        "is_valid = lambda items: all(a < (b := items[i + 1]) and abs(a - b) <= 3 for i, a in enumerate(items[:-1]))\n",
        "is_actually_valid = lambda some_list: is_valid(some_list) or is_valid(list(reversed(some_list)))\n",
        "sum(is_actually_valid(numlist) for numlist in numlines)"
      ],
      "metadata": {
        "colab": {
          "base_uri": "https://localhost:8080/"
        },
        "id": "jqk3CngeX5Gs",
        "outputId": "6cf92a16-e2bd-408b-a2c9-b7a4c31d65ee"
      },
      "execution_count": null,
      "outputs": [
        {
          "output_type": "stream",
          "name": "stdout",
          "text": [
            "5.62 ms ± 1.74 ms per loop (mean ± std. dev. of 7 runs, 100 loops each)\n"
          ]
        }
      ]
    },
    {
      "cell_type": "code",
      "source": [
        "# part 2\n",
        "\n",
        "%%timeit\n",
        "textlines = open(\"/content/advent2.24.txt\", \"r\").readlines()\n",
        "numlines = [[int(num) for num in line.split(\" \")] for line in textlines]\n",
        "is_valid = lambda items: all(a < (b := items[i + 1]) and abs(a - b) <= 3 for i, a in enumerate(items[:-1]))\n",
        "is_truly_valid = lambda items: True in [is_valid(items[:i] + items[i + 1:]) for i, item in enumerate(items)]\n",
        "is_actually_valid = lambda some_list: is_truly_valid(some_list) or is_truly_valid(list(reversed(some_list)))\n",
        "sum(is_actually_valid(numlist) for numlist in numlines)"
      ],
      "metadata": {
        "id": "nUFjZzMZozoA"
      },
      "execution_count": null,
      "outputs": []
    },
    {
      "cell_type": "markdown",
      "source": [
        "## Day 3"
      ],
      "metadata": {
        "id": "rEYhnn8u2bgz"
      }
    },
    {
      "cell_type": "code",
      "source": [
        "text = open(\"/content/advent3.24.txt\", \"r\").read()"
      ],
      "metadata": {
        "id": "0lsYInT8yD-S"
      },
      "execution_count": 6,
      "outputs": []
    },
    {
      "cell_type": "code",
      "source": [
        "total = 0\n",
        "dostate = True\n",
        "is_part_2 = True # toggle for part 2 sol or not\n",
        "for i, char in enumerate(text):\n",
        "  if text[i:i+4] == \"do()\":\n",
        "    dostate = True\n",
        "  if text[i:i+7] == \"don't()\":\n",
        "    dostate = False\n",
        "  if char != \"m\":\n",
        "    continue\n",
        "  if text[i:i+4] != \"mul(\":\n",
        "    continue\n",
        "  num1 = \"\"\n",
        "  current_index = i+4\n",
        "  while True:\n",
        "    if not text[current_index].isnumeric():\n",
        "      break\n",
        "    num1 += text[current_index]\n",
        "    current_index += 1\n",
        "  if text[current_index] != \",\":\n",
        "    continue\n",
        "  current_index += 1\n",
        "  num2 = \"\"\n",
        "  while True:\n",
        "    if not text[current_index].isnumeric():\n",
        "      break\n",
        "    num2 += text[current_index]\n",
        "    current_index += 1\n",
        "\n",
        "  if not text[current_index] == \")\":\n",
        "    continue\n",
        "\n",
        "  if is_part_2 and not dostate:\n",
        "      continue\n",
        "\n",
        "  try:\n",
        "\n",
        "    total += int(num1) * int(num2)\n",
        "  except Exception:\n",
        "    pass\n",
        "total"
      ],
      "metadata": {
        "colab": {
          "base_uri": "https://localhost:8080/"
        },
        "id": "51JpAOkyyL_v",
        "outputId": "d5f65ea3-2f45-44b2-a256-954487fd4b39"
      },
      "execution_count": 29,
      "outputs": [
        {
          "output_type": "execute_result",
          "data": {
            "text/plain": [
              "94455185"
            ]
          },
          "metadata": {},
          "execution_count": 29
        }
      ]
    },
    {
      "cell_type": "code",
      "source": [
        "total"
      ],
      "metadata": {
        "colab": {
          "base_uri": "https://localhost:8080/"
        },
        "id": "jiCWzfZK6ZyS",
        "outputId": "12cb8787-4bdc-40ad-ee4c-bffe649d0173"
      },
      "execution_count": 21,
      "outputs": [
        {
          "output_type": "execute_result",
          "data": {
            "text/plain": [
              "0"
            ]
          },
          "metadata": {},
          "execution_count": 21
        }
      ]
    }
  ]
}